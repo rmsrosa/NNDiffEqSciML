{
 "cells": [
  {
   "cell_type": "markdown",
   "metadata": {
    "slideshow": {
     "slide_type": "skip"
    }
   },
   "source": [
    "<!--HEADER-->\n",
    "*Aprendizado Científico de Máquina: notas sobre aprendizado de máquina e equações diferenciais universais, em um contexto de computação científica. [- Ricardo M. S. Rosa (IM/UFRJ)](http://www.im.ufrj.br/rrosa)*"
   ]
  },
  {
   "cell_type": "markdown",
   "metadata": {
    "slideshow": {
     "slide_type": "skip"
    }
   },
   "source": [
    "<!--BADGES-->\n",
    "<a href=\"https://nbviewer.jupyter.org/github/rmsrosa/NNDiffEqSciML/blob/main/notebooks/02.02-Funcoes_ativacao_outros_neuronios.ipynb\" target=\"_blank\"><img align=\"left\" src=\"https://img.shields.io/badge/view%20in-nbviewer-orange\" alt=\"View in NBViewer\" title=\"View in NBViewer\"></a><a href=\"https://mybinder.org/v2/gh/rmsrosa/NNDiffEqSciML/main?filepath=notebooks/02.02-Funcoes_ativacao_outros_neuronios.ipynb\" target=\"_blank\"><img align=\"left\" src=\"https://mybinder.org/badge.svg\" alt=\"Open in binder\" title=\"Open in binder\"></a><a href=\"https://nbviewer.jupyter.org/github/rmsrosa/NNDiffEqSciML/blob/main/notebooks/slides/02.02-Funcoes_ativacao_outros_neuronios.slides.html\" target=\"_blank\"><img align=\"left\" src=\"https://img.shields.io/badge/view-slides-darkgreen\" alt=\"View Slides\" title=\"View Slides\"></a>&nbsp;"
   ]
  },
  {
   "cell_type": "markdown",
   "metadata": {
    "slideshow": {
     "slide_type": "skip"
    }
   },
   "source": [
    "<!--NAVIGATOR-->\n",
    "[<- 2.1. Redes de perceptrons e circuitos lógicos](02.01-Redes_de_perceptrons.ipynb) | [Redes Neurais, Equações Diferenciais e Aprendizado Científico de Máquina](00.00-Frente.ipynb) | [2.3. Tipos de redes ->](02.03-Tipos_de_redes.ipynb)\n",
    "\n",
    "---\n"
   ]
  },
  {
   "cell_type": "markdown",
   "metadata": {},
   "source": [
    "# Funções de ativação e outros neurônios\n",
    "\n",
    "- Vimos que os perceptrons podem ser vistos como composição de uma função afim com uma função Heaviside.\n",
    "\n",
    "- Um perceptron, dessa forma, é também chamado de **neurônio Heaviside**.\n",
    "\n",
    "- A função de Heaviside, no caso, é um exemplo de **função de ativação**.\n",
    "\n",
    "- O termo **função de ativação** tem origem biológia, em que um sinal é *ativado* de acordo com algum sinal (estímulo) ser maior do que um certo limiar.\n",
    "\n",
    "- Vamos ver, aqui, **outras funções de ativação** e os **neurônios associados**."
   ]
  },
  {
   "cell_type": "markdown",
   "metadata": {},
   "source": [
    "## Funções de ativação\n",
    "\n",
    "* Redes de perceptrons são perfeitas para mimetizar circuitos lógicos.\n",
    "\n",
    "* Para modelar fenômenos reais, no entanto, o caráter discreto da saída de cada perceptron traz um problema para o ajuste dos parâmetros.\n",
    "\n",
    "* Ao buscarmos ajustar os parâmetros, utilizamos, frequentemente, algoritmos do tipo gradiente, \"caminhando\" na direção e sentido de maior decrescimento de uma função de perda, ou erro, entre os dados do modelo e os dados que desejamos modelar.\n",
    "\n",
    "* Para isso, é desejável que o modelo seja diferenciável e a sua derivada não seja trivial, o que não é o caso da função de Heaviside (nem na origem, nem fora dela).\n",
    "\n",
    "* Assim, diferentes funções de ativação têm sido propostas e são usadas nos mais variados casos."
   ]
  },
  {
   "cell_type": "code",
   "execution_count": null,
   "metadata": {},
   "outputs": [],
   "source": []
  },
  {
   "cell_type": "markdown",
   "metadata": {
    "slideshow": {
     "slide_type": "skip"
    }
   },
   "source": [
    "<!--NAVIGATOR-->\n",
    "\n",
    "---\n",
    "[<- 2.1. Redes de perceptrons e circuitos lógicos](02.01-Redes_de_perceptrons.ipynb) | [Redes Neurais, Equações Diferenciais e Aprendizado Científico de Máquina](00.00-Frente.ipynb) | [2.3. Tipos de redes ->](02.03-Tipos_de_redes.ipynb)"
   ]
  }
 ],
 "metadata": {
  "kernelspec": {
   "display_name": "py38",
   "language": "python",
   "name": "py38"
  },
  "language_info": {
   "codemirror_mode": {
    "name": "ipython",
    "version": 3
   },
   "file_extension": ".py",
   "mimetype": "text/x-python",
   "name": "python",
   "nbconvert_exporter": "python",
   "pygments_lexer": "ipython3",
   "version": "3.8.1"
  }
 },
 "nbformat": 4,
 "nbformat_minor": 4
}
