{
 "cells": [
  {
   "cell_type": "markdown",
   "metadata": {
    "slideshow": {
     "slide_type": "skip"
    }
   },
   "source": [
    "<!--HEADER-->\n",
    "*Aprendizado Científico de Máquina: notas sobre aprendizado de máquina e equações diferenciais universais, em um contexto de computação científica. [- Ricardo M. S. Rosa (IM/UFRJ)](http://www.im.ufrj.br/rrosa)*"
   ]
  },
  {
   "cell_type": "markdown",
   "metadata": {
    "slideshow": {
     "slide_type": "skip"
    }
   },
   "source": [
    "<!--BADGES-->\n",
    "<a href=\"https://nbviewer.jupyter.org/github/rmsrosa/NNDiffEqSciML/blob/main/notebooks/05.00-Calculo_gradientes.ipynb\" target=\"_blank\"><img align=\"left\" src=\"https://img.shields.io/badge/view%20in-nbviewer-orange\" alt=\"View in NBViewer\" title=\"View in NBViewer\"></a><a href=\"https://mybinder.org/v2/gh/rmsrosa/NNDiffEqSciML/main?filepath=notebooks/05.00-Calculo_gradientes.ipynb\" target=\"_blank\"><img align=\"left\" src=\"https://mybinder.org/badge.svg\" alt=\"Open in binder\" title=\"Open in binder\"></a><a href=\"https://nbviewer.jupyter.org/github/rmsrosa/NNDiffEqSciML/blob/main/notebooks/slides/05.00-Calculo_gradientes.slides.html\" target=\"_blank\"><img align=\"left\" src=\"https://img.shields.io/badge/view-slides-darkgreen\" alt=\"View Slides\" title=\"View Slides\"></a>&nbsp;"
   ]
  },
  {
   "cell_type": "markdown",
   "metadata": {
    "slideshow": {
     "slide_type": "skip"
    }
   },
   "source": [
    "<!--NAVIGATOR-->\n",
    "[<- 4. Métodos de otimização](04.00-Otimizacao.ipynb) | [Redes Neurais, Equações Diferenciais e Aprendizado Científico de Máquina](00.00-Frente.ipynb) | [5.1. Diferenciação automática ->](05.01-Diferenciacao_automatica.ipynb)\n",
    "\n",
    "---\n"
   ]
  },
  {
   "cell_type": "markdown",
   "metadata": {},
   "source": [
    "# Cálculo de gradientes"
   ]
  },
  {
   "cell_type": "markdown",
   "metadata": {},
   "source": [
    "* Para os métodos de otimização, vimos a importância de se calcular o gradiente da função de perda.\n",
    "\n",
    "* A questão prática é *como se calcular tais gradientes.*\n",
    "\n",
    "* Caso a função de perda, ou uma função qualquer, seja dada em termos de funções elementares do Cálculo (e.g. polinômios, senoidais, exponenciais, logarítmos), o gradiente também pode ser calculado de maneira explícita. Isso pode ser feito de duas maneiras:\n",
    "\n",
    "    1. De maneira **manual**, caso a composição dessas funções seja simples;\n",
    "    2. Automaticamente através de métodos de **cálculo simbólico**.\n",
    "\n",
    "* Outra maneira, independente da função ser baseada em funções elementares ou não, é através de duas técnicas numéricas:\n",
    "\n",
    "    3. **Diferenças finitas**;\n",
    "    4. **Diferenciação automática**.\n",
    "\n",
    "* As maneiras manual, simbólica e via diferenciação automática são exatas. Apenas os erros numéricos de precisão da máquina aparecem, no cálculo final.\n",
    "\n",
    "* A maneira via diferenças finitas incorre em erros maiores, de truncamento.\n",
    "\n",
    "* Para funções simples, ou não muito complexas, tanto a maneira manual como a simbólica são recomendadas.\n",
    "\n",
    "* Para funções mais complexas, a diferenciação automática apresente maiores vantagens e tem sido muito utilizada em diversos problemas de otimização, em geral, e em aprendizado de máquina, em particular.\n",
    "\n",
    "* Discutimos, nesse capítulo, este último método de diferenciação automática, que é menos conhecido."
   ]
  },
  {
   "cell_type": "markdown",
   "metadata": {
    "slideshow": {
     "slide_type": "skip"
    }
   },
   "source": [
    "<!--NAVIGATOR-->\n",
    "\n",
    "---\n",
    "[<- 4. Métodos de otimização](04.00-Otimizacao.ipynb) | [Redes Neurais, Equações Diferenciais e Aprendizado Científico de Máquina](00.00-Frente.ipynb) | [5.1. Diferenciação automática ->](05.01-Diferenciacao_automatica.ipynb)"
   ]
  }
 ],
 "metadata": {
  "kernelspec": {
   "display_name": "Julia 1.5.3",
   "language": "julia",
   "name": "julia-1.5"
  },
  "language_info": {
   "file_extension": ".jl",
   "mimetype": "application/julia",
   "name": "julia",
   "version": "1.5.3"
  }
 },
 "nbformat": 4,
 "nbformat_minor": 4
}
