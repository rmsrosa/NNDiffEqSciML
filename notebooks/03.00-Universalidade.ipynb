{
 "cells": [
  {
   "cell_type": "markdown",
   "metadata": {
    "slideshow": {
     "slide_type": "skip"
    }
   },
   "source": [
    "<!--HEADER-->\n",
    "*Aprendizado Científico de Máquina: notas sobre aprendizado de máquina e equações diferenciais universais, em um contexto de computação científica. [- Ricardo M. S. Rosa (IM/UFRJ)](http://www.im.ufrj.br/rrosa)*"
   ]
  },
  {
   "cell_type": "markdown",
   "metadata": {
    "slideshow": {
     "slide_type": "skip"
    }
   },
   "source": [
    "<!--BADGES-->\n",
    "<a href=\"https://nbviewer.jupyter.org/github/rmsrosa/NNDiffEqSciML/blob/main/notebooks/03.00-Universalidade.ipynb\" target=\"_blank\"><img align=\"left\" src=\"https://img.shields.io/badge/view%20in-nbviewer-orange\" alt=\"View in NBViewer\" title=\"View in NBViewer\"></a>&nbsp;"
   ]
  },
  {
   "cell_type": "markdown",
   "metadata": {
    "slideshow": {
     "slide_type": "skip"
    }
   },
   "source": [
    "<!--NAVIGATOR-->\n",
    "[<- 2.3. Tipos de redes](02.03-Tipos_de_redes.ipynb) | [Redes Neurais, Equações Diferenciais e Aprendizado Científico de Máquina](00.00-Frente.ipynb) | [3.1. Teorema de Weierstrass ->](03.01-Teorema_de_Weierstrass.ipynb)\n",
    "\n",
    "---\n"
   ]
  },
  {
   "cell_type": "markdown",
   "metadata": {},
   "source": [
    "# Teoria da aproximação e universalidade\n",
    "\n",
    "- Mencionamos que um ponto fundamental de redes neurais é que elas são **universais**, no sentido de poderem *aproximar uniformemente qualquer função real contínua em compactos*.\n",
    "\n",
    "- Isso faz parte do que é chamado classicamente de **Teoria da Aproximação**.\n",
    "\n",
    "- Na **Teoria da Aproximação**, busca-se aproximar um certo tipo de função por funções de um tipo particular.\n",
    "\n",
    "- Por exemplo, aproximar funções contínuas em compactos por polinômios ou aproximar funções de quadrado integrável por polinômios trigonométricos.\n",
    "\n",
    "- Neste capítulo, veremos um apanhado de resultados desse tipo e os detalhes de alguns desses resultados."
   ]
  },
  {
   "cell_type": "markdown",
   "metadata": {},
   "source": [
    "## Um breve histórico da Teoria da Aproximação\n",
    "\n",
    "* A página a seguir traz um ótimo histórico de artigos, muitos com links para PDF, relacionados à teoria da aproximação:\n",
    "\n",
    "  - [History of Approximation Theory (HAT)](https://www.math.technion.ac.il/hat/papers.html)\n",
    "\n",
    "* Essa página contém artigos de resultados relativamente mais modernos, entre a segunda metade do século XIX e a primeira metade do século XX, sobre a aproximação ou interpolação de funções contínuas por diversos tipos de polinômios (Weierstrass, Bronstein, Lagrange, Hermite, Chebyshev).\n",
    "\n",
    "* Bem antes disso, nos séculos XIV e XV, séries de potência de diversas funções particulares já tinham sido obtidas de maneira explícita.\n",
    "\n",
    "* Newton, pouco depois, no final do século XVII, fez uso extensivo de séries de potência em seus trabalhos.\n",
    "\n",
    "* Séries de potência também foram exploradas por Leibniz e MacLaurin, aproximadamente na mesma época.\n",
    "\n",
    "* Um pouco depois, no início do século XVIII, Taylor (1715) exibiu um método geral de obtenção de séries de potência.\n",
    "\n",
    "* De fato, ao longo do século XVIII, a série de potências era considerada parte intrínsica da noção de função. Apenas na primeira metade do século XIX que esses conceitos começaram a ser visto de maneira distinta e a teoria de funções analíticas teve origem, principalmente com  os trabalhos de Cauchy, Riemann e Weierstrass.\n",
    "\n",
    "* A Teoria da Aproximação mencionada inicialmente trata, por outro lado, da aproximação de funções muito menos regulares do que as funções analíticas. Elas podem ser meramente contínuas, como no resultado de aproximação de Weierstrass, ou apenas de quadrado Lebesgue integrável, como  em séries de Fourier."
   ]
  },
  {
   "cell_type": "markdown",
   "metadata": {},
   "source": [
    "## Aproximação por polinômios\n",
    "\n",
    "- Talvez o resultado mais conhecido seja o **Teorema de Aproximação de Weierstrass**, que trata da *aproximação uniforme de qualquer função real contínua em um intervalo compacto por polinômios*.\n",
    "\n",
    "- Uma extensão bastante poderosa desse resultado é o **Teorema de Aproximação de Stone-Weierstrass**, que estende esse resultado para um nível abstrato, com uma ampla gama de aplicações.\n",
    "\n",
    "- Diferentes tipos de polinômios podem ser usados e a escolha deles é um campo importante de pesquisa teórica e numérica.\n",
    "\n",
    "- Apróximações por **séries de Taylor** também são aproximações polinômiais, mas elas não são uniformes, a menos que a função seja (real) analítica no (intervalo) domínio de interesse. Fora isso, é preciso diferenciabilidade de ordem $k+1$ para uma aproximação de ordem $|\\Delta x|^k$, em relação ao ponto onde as derivadas são calculadas."
   ]
  },
  {
   "cell_type": "markdown",
   "metadata": {},
   "source": [
    "## Aproximação sinusoidal\n",
    "\n",
    "- Outro resultado bastante conhecido é a convergência de **Séries de Fourier**, que trata da aproximação de qualquer *função de quadrado integrável, na norma usual de funções de quadrado integrável*.\n",
    "\n",
    "- Para a *convergência uniforme de séries de Fourier*, precisamos, em geral, restringir o conjunto de funções a serem aproximadas, como, por exemplo, *funções continuamente diferenciáveis ou funções absolutamente contínuas com derivada de quadrado integrável*."
   ]
  },
  {
   "cell_type": "markdown",
   "metadata": {},
   "source": [
    "## Aproximação por splines\n",
    "\n",
    "* **Splines** são extensamente utilizadas em uma ampla gama de problemas.\n",
    "\n",
    "* Diversos tipos de splines podem ser utilizados, mas a convergência precisa de um pouco mais de regularidade da função."
   ]
  },
  {
   "cell_type": "markdown",
   "metadata": {},
   "source": [
    "## Aproximação por redes neurais\n",
    "\n",
    "- No caso de redes neurais, temos o resultado da **completude de redes de perceptrons em relação a circuitos lógicos**, ou seja, que podem representar (não apenas aproximar) qualquer circuito lógico.\n",
    "\n",
    "- Outros resultados fundamentais em redes neurais são conhecidos como **Teoremas de Aproximação Universal**, onde qualquer função contínua em um compacto pode ser aproximada por redes neurais (i) tanto com uma única camada escondidada de largura arbitrária, (ii) como com redes profundas, com um arbitrário número de camadas escondidas, mas com larguras uniformemente limitada.\n"
   ]
  },
  {
   "cell_type": "markdown",
   "metadata": {
    "slideshow": {
     "slide_type": "skip"
    }
   },
   "source": [
    "<!--NAVIGATOR-->\n",
    "\n",
    "---\n",
    "[<- 2.3. Tipos de redes](02.03-Tipos_de_redes.ipynb) | [Redes Neurais, Equações Diferenciais e Aprendizado Científico de Máquina](00.00-Frente.ipynb) | [3.1. Teorema de Weierstrass ->](03.01-Teorema_de_Weierstrass.ipynb)"
   ]
  }
 ],
 "metadata": {
  "kernelspec": {
   "display_name": "py38",
   "language": "python",
   "name": "py38"
  },
  "language_info": {
   "codemirror_mode": {
    "name": "ipython",
    "version": 3
   },
   "file_extension": ".py",
   "mimetype": "text/x-python",
   "name": "python",
   "nbconvert_exporter": "python",
   "pygments_lexer": "ipython3",
   "version": "3.8.1"
  }
 },
 "nbformat": 4,
 "nbformat_minor": 4
}
