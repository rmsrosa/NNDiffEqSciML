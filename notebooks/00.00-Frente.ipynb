{
 "cells": [
  {
   "cell_type": "markdown",
   "metadata": {
    "slideshow": {
     "slide_type": "skip"
    }
   },
   "source": [
    "<!--HEADER-->\n",
    "*Aprendizado Científico de Máquina: notas sobre aprendizado de máquina e equações diferenciais universais, em um contexto de computação científica. [- Ricardo M. S. Rosa (IM/UFRJ)](http://www.im.ufrj.br/rrosa)*"
   ]
  },
  {
   "cell_type": "markdown",
   "metadata": {
    "slideshow": {
     "slide_type": "skip"
    }
   },
   "source": [
    "<!--BADGES-->\n",
    "<a href=\"https://nbviewer.jupyter.org/github/rmsrosa/NNDiffEqSciML/blob/main/notebooks/00.00-Frente.ipynb\" target=\"_blank\"><img align=\"left\" src=\"https://img.shields.io/badge/view%20in-nbviewer-orange\" alt=\"View in NBViewer\" title=\"View in NBViewer\"></a><a href=\"https://mybinder.org/v2/gh/rmsrosa/NNDiffEqSciML/main?filepath=notebooks/00.00-Frente.ipynb\" target=\"_blank\"><img align=\"left\" src=\"https://mybinder.org/badge.svg\" alt=\"Open in binder\" title=\"Open in binder\"></a><a href=\"https://nbviewer.jupyter.org/github/rmsrosa/NNDiffEqSciML/blob/main/notebooks/slides/00.00-Frente.slides.html\" target=\"_blank\"><img align=\"left\" src=\"https://img.shields.io/badge/view-slides-darkgreen\" alt=\"View Slides\" title=\"View Slides\"></a>&nbsp;"
   ]
  },
  {
   "cell_type": "markdown",
   "metadata": {
    "slideshow": {
     "slide_type": "skip"
    }
   },
   "source": [
    "<!--NAVIGATOR-->\n",
    "| [Redes Neurais, Equações Diferenciais e Aprendizado Científico de Máquina](00.00-Frente.ipynb) | [1. Introdução ->](01.00-Introducao.ipynb)\n",
    "\n",
    "---\n"
   ]
  },
  {
   "cell_type": "markdown",
   "metadata": {
    "slideshow": {
     "slide_type": "slide"
    }
   },
   "source": [
    "# Redes Neurais, Equações Diferenciais e Aprendizado Científico de Máquina\n",
    "\n",
    "## Objetivos\n",
    "\n",
    "- Redes neurais.\n",
    "\n",
    "- Diferentes Teoremas de Aproximação Universal para classes diversas.\n",
    "\n",
    "- Algoritmos de treinamento de redes neurais\n",
    "\n",
    "- Redes neurais baseadas em equações diferenciais \n",
    "\n",
    "- Equações diferenciais com termos de redes neurais"
   ]
  },
  {
   "cell_type": "markdown",
   "metadata": {
    "slideshow": {
     "slide_type": "slide"
    }
   },
   "source": [
    "## Algumas referências úteis\n",
    "\n",
    "https://github.com/mitmath/18S096SciML\n",
    "\n",
    "[mitmath/binder-env](https://github.com/mitmath/binder-env)"
   ]
  },
  {
   "cell_type": "markdown",
   "metadata": {
    "slideshow": {
     "slide_type": "slide"
    }
   },
   "source": [
    "<!--TABLE_OF_CONTENTS-->\n",
    "## [Sumário](#)\n",
    "\n",
    "### [Redes Neurais, Equações Diferenciais e Aprendizado Científico de Máquina](00.00-Frente.ipynb)\n",
    "\n",
    "### [1. Introdução](01.00-Introducao.ipynb)\n",
    "\n",
    "### [2. Introdução a redes neurais](02.00-Introducao_redes_neurais.ipynb)\n",
    "\n",
    "&nbsp;&nbsp;&nbsp;&nbsp; [2.1. Redes de perceptrons e circuitos lógicos](02.01-Redes_de_perceptrons.ipynb)\n",
    "\n",
    "&nbsp;&nbsp;&nbsp;&nbsp; [2.2. Funções de ativação e outros neurônios](02.02-Funcoes_ativacao_outros_neuronios.ipynb)\n",
    "\n",
    "&nbsp;&nbsp;&nbsp;&nbsp; [2.3. Tipos de redes](02.03-Tipos_de_redes.ipynb)\n",
    "\n",
    "### [3. Teoria da aproximação e universalidade](03.00-Universalidade.ipynb)\n",
    "\n",
    "&nbsp;&nbsp;&nbsp;&nbsp; [3.1. Teorema de Weierstrass](03.01-Teorema_de_Weierstrass.ipynb)\n",
    "\n",
    "&nbsp;&nbsp;&nbsp;&nbsp; [3.2. Teorema de Stone-Weierstrass](03.02-Teorema_de_StoneWeierstrass.ipynb)\n",
    "\n",
    "&nbsp;&nbsp;&nbsp;&nbsp; [3.3. Universalidade de redes largas de uma única camada](03.03-Universalidade_redes_largas.ipynb)\n",
    "\n",
    "&nbsp;&nbsp;&nbsp;&nbsp; [3.4. Universalidade de redes profundas de largura limitada](03.04-Universalidade_redes_profundas.ipynb)\n",
    "\n",
    "### [4. Métodos de otimização](04.00-Otimizacao.ipynb)\n",
    "\n",
    "### [5. Cálculo de gradientes](05.00-Calculo_gradientes.ipynb)\n",
    "\n",
    "&nbsp;&nbsp;&nbsp;&nbsp; [5.1. Diferenciação automática](05.01-Diferenciacao_automatica.ipynb)\n",
    "\n",
    "&nbsp;&nbsp;&nbsp;&nbsp; [5.2. Algoritmo de pró-propagação](05.02-Algoritmo_pro_propagacao.ipynb)\n",
    "\n",
    "&nbsp;&nbsp;&nbsp;&nbsp; [5.3. Algoritmo de retro-propagação](05.03-Algoritmo_retro_propagacao.ipynb)\n",
    "\n",
    "### [6. Exemplos de aprendizado de máquina](06.00-Exemplos_aprendizado.ipynb)\n",
    "\n",
    "### [7. Equações diferenciais universais](07.00-Equacoes_diferenciais_universai.ipynb)\n",
    "\n",
    "&nbsp;&nbsp;&nbsp;&nbsp; [7.4. Identificação esparsa de dinâmica não-linear](07.04-Identificacao_esparsa.ipynb)\n",
    "\n",
    "&nbsp;&nbsp;&nbsp;&nbsp; [7.5. Identificação esparsa do sistema de Lorenz](07.05-Identificacao_esparsa_Lorenz.ipynb)\n",
    "\n"
   ]
  },
  {
   "cell_type": "markdown",
   "metadata": {
    "slideshow": {
     "slide_type": "skip"
    }
   },
   "source": [
    "<!--NAVIGATOR-->\n",
    "\n",
    "---\n",
    "| [Redes Neurais, Equações Diferenciais e Aprendizado Científico de Máquina](00.00-Frente.ipynb) | [1. Introdução ->](01.00-Introducao.ipynb)"
   ]
  }
 ],
 "metadata": {
  "kernelspec": {
   "display_name": "Julia 1.5.3",
   "language": "julia",
   "name": "julia-1.5"
  },
  "language_info": {
   "file_extension": ".jl",
   "mimetype": "application/julia",
   "name": "julia",
   "version": "1.5.3"
  }
 },
 "nbformat": 4,
 "nbformat_minor": 4
}
