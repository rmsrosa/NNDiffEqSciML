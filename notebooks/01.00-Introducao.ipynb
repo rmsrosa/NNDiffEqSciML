{
 "cells": [
  {
   "cell_type": "markdown",
   "metadata": {
    "slideshow": {
     "slide_type": "skip"
    }
   },
   "source": [
    "<!--HEADER-->\n",
    "*Aprendizado Científico de Máquina: notas sobre aprendizado de máquina e equações diferenciais universais, em um contexto de computação científica. [- Ricardo M. S. Rosa (IM/UFRJ)](http://www.im.ufrj.br/rrosa)*"
   ]
  },
  {
   "cell_type": "markdown",
   "metadata": {
    "slideshow": {
     "slide_type": "skip"
    }
   },
   "source": [
    "<!--BADGES-->\n",
    "<a href=\"https://nbviewer.jupyter.org/github/rmsrosa/nbjoint/blob/master/sciml_notes/01.00-Introducao.ipynb\" target=\"_blank\"><img align=\"left\" src=\"https://img.shields.io/badge/view%20in-nbviewer-orange\" alt=\"View in NBViewer\" title=\"View in NBViewer\"></a>&nbsp;"
   ]
  },
  {
   "cell_type": "markdown",
   "metadata": {
    "slideshow": {
     "slide_type": "skip"
    }
   },
   "source": [
    "<!--NAVIGATOR-->\n",
    "[<- Redes Neurais, Equações Diferenciais e Aprendizado Científico de Máquina](00.00-Frente.ipynb) | [Redes Neurais, Equações Diferenciais e Aprendizado Científico de Máquina](00.00-Frente.ipynb) | [2. Introdução a redes neurais ->](02.00-Introducao_redes_neurais.ipynb)\n",
    "\n",
    "---\n"
   ]
  },
  {
   "cell_type": "markdown",
   "metadata": {},
   "source": [
    "# Introdução\n",
    "\n",
    "## Ideia geral\n",
    "\n",
    "- Redes neurais são construídas a partir de partes elementares chamadas de *neurônios*.\n",
    "\n",
    "- Esses neurônios são funções reais de uma ou mais variáveis.\n",
    "\n",
    "- O primeiro neurônio considerado na literatura é conhecido como *perceptron*.\n",
    "\n",
    "- Um *perceptron* é um neurônio específico, com valor de saída binário, dependendo de uma certa combinação linear das variáveis de entrada serem maiores que um valor limiar ou não.\n",
    "\n",
    "- Em sua essência, *redes neurais* são funções construídas pela composição desses neurônios.\n",
    "\n",
    "- Há diversos tipos de redes neurais, classificadas de acordo com a sua topologia."
   ]
  },
  {
   "cell_type": "markdown",
   "metadata": {},
   "source": [
    "## Pontos fundamentais\n",
    "\n",
    "1. As redes neurais são *universais*:\n",
    "\n",
    "    1. Tanto em relação a funções contínuas em compactos, ou seja, elas podem aproximar uniformemente qualquer função real contínua definida em um compacto.\n",
    "    \n",
    "    1. Como em álgebra Booleana, podendo definir qualquer circuito lógico, sendo que nesse caso basta usarmos neurônios do tipo perceptron.\n",
    "    \n",
    "1. Outro ponto fundamental é que, atualmente, há métodos para se *treinar* certos tipos de redes rapidamente.\n",
    "\n",
    "1. Uma, em particular, que pode ser treinada rapidamente é a rede *pró-alimentada* *(\"feed-forward\")*, formada por camadas onde uma camada só depende da anterior, com a primeira camada dependendo das variáveis de entrada da rede e com os valores de saída dependendo da última camada.\n",
    "\n",
    "1. O algoritmo de treinamento rápido da rede *pró-alimentada* é chamado de *retro-propagação* *(\"back-propagation\")*"
   ]
  },
  {
   "cell_type": "markdown",
   "metadata": {},
   "source": [
    "## Objetivos\n",
    "\n",
    "O nosso objetivo é fazer um breve estudo sobre redes neurais e sobre o uso de redes neurais em modelagem envolvendo equações diferenciais.\n",
    "\n",
    "Parte do estudo sobre redes neurais será feita com base nas seguintes fontes:\n",
    "\n",
    "- [Neural networks and deep learning](http://neuralnetworksanddeeplearning.com)\n",
    "\n",
    "- [Deep learning by Goodfellow, Bengio, and Courville (2016)](https://www.deeplearningbook.org)\n",
    "\n",
    "- [Neural Networks - A Systematic Introduction by Raul Rojas (1996)](https://page.mi.fu-berlin.de/rojas/neural/)\n",
    "\n",
    "- [Deep learning book em português](http://deeplearningbook.com.br)\n",
    "\n",
    "No primeiro capítulo, vamos fazer um resumo rápido baseado em [Neural networks and deep learning](http://neuralnetworksanddeeplearning.com).\n",
    "\n",
    "Nos outros capítulos, trataremos de alguns temas de forma mais detalhada.\n",
    "\n",
    "Em seguida, vermos como equações diferenciais entram na história."
   ]
  },
  {
   "cell_type": "markdown",
   "metadata": {
    "slideshow": {
     "slide_type": "skip"
    }
   },
   "source": [
    "<!--NAVIGATOR-->\n",
    "\n",
    "---\n",
    "[<- Redes Neurais, Equações Diferenciais e Aprendizado Científico de Máquina](00.00-Frente.ipynb) | [Redes Neurais, Equações Diferenciais e Aprendizado Científico de Máquina](00.00-Frente.ipynb) | [2. Introdução a redes neurais ->](02.00-Introducao_redes_neurais.ipynb)"
   ]
  }
 ],
 "metadata": {
  "kernelspec": {
   "display_name": "py38",
   "language": "python",
   "name": "py38"
  },
  "language_info": {
   "codemirror_mode": {
    "name": "ipython",
    "version": 3
   },
   "file_extension": ".py",
   "mimetype": "text/x-python",
   "name": "python",
   "nbconvert_exporter": "python",
   "pygments_lexer": "ipython3",
   "version": "3.8.1"
  }
 },
 "nbformat": 4,
 "nbformat_minor": 4
}
