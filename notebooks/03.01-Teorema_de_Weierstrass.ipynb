{
 "cells": [
  {
   "cell_type": "markdown",
   "metadata": {
    "slideshow": {
     "slide_type": "skip"
    }
   },
   "source": [
    "<!--HEADER-->\n",
    "*Aprendizado Científico de Máquina: notas sobre aprendizado de máquina e equações diferenciais universais, em um contexto de computação científica. [- Ricardo M. S. Rosa (IM/UFRJ)](http://www.im.ufrj.br/rrosa)*"
   ]
  },
  {
   "cell_type": "markdown",
   "metadata": {
    "slideshow": {
     "slide_type": "skip"
    }
   },
   "source": [
    "<!--BADGES-->\n",
    "<a href=\"https://nbviewer.jupyter.org/github/rmsrosa/NNDiffEqSciML/blob/main/notebooks/03.01-Teorema_de_Weierstrass.ipynb\" target=\"_blank\"><img align=\"left\" src=\"https://img.shields.io/badge/view%20in-nbviewer-orange\" alt=\"View in NBViewer\" title=\"View in NBViewer\"></a><a href=\"https://mybinder.org/v2/gh/rmsrosa/NNDiffEqSciML/main?filepath=notebooks/03.01-Teorema_de_Weierstrass.ipynb\" target=\"_blank\"><img align=\"left\" src=\"https://mybinder.org/badge.svg\" alt=\"Open in binder\" title=\"Open in binder\"></a><a href=\"https://nbviewer.jupyter.org/github/rmsrosa/NNDiffEqSciML/blob/main/notebooks/slides/03.01-Teorema_de_Weierstrass.slides.html\" target=\"_blank\"><img align=\"left\" src=\"https://img.shields.io/badge/view-slides-darkgreen\" alt=\"View Slides\" title=\"View Slides\"></a>&nbsp;"
   ]
  },
  {
   "cell_type": "markdown",
   "metadata": {
    "slideshow": {
     "slide_type": "skip"
    }
   },
   "source": [
    "<!--NAVIGATOR-->\n",
    "[<- 3. Teoria da aproximação e universalidade](03.00-Universalidade.ipynb) | [Redes Neurais, Equações Diferenciais e Aprendizado Científico de Máquina](00.00-Frente.ipynb) | [3.2. Teorema de Stone-Weierstrass ->](03.02-Teorema_de_StoneWeierstrass.ipynb)\n",
    "\n",
    "---\n"
   ]
  },
  {
   "cell_type": "markdown",
   "metadata": {},
   "source": [
    "# Teorema de Weierstrass\n",
    "\n",
    "O **Teorema de Aproximação de Weierstrass** trata da *aproximação uniforme, por polinômios, de qualquer função real contínua definida em um intervalo compacto*.\n",
    "\n",
    "Nesta seção, vamos ver a demonstração original de Weierstrass e a demonstração mais simples de Berstein."
   ]
  },
  {
   "cell_type": "markdown",
   "metadata": {},
   "source": [
    "## Referências\n",
    "\n",
    "* Karl Weierstrass:\n",
    "\n",
    "    * Über die analytische Darstellbarkeit sogenannter willkürlicher Functionen einer reellen Veränderlichen, Sitzungsberichte der Akademie zu Berlin [633-639](https://www.math.technion.ac.il/hat/fpapers/wei3.pdf) and [789-805](https://www.math.technion.ac.il/hat/fpapers/wei4.pdf), 1885. - artigo original de Weierstrass, em duas partes, contendo o resultado de densidade dos polinômios algébricos e também de polinômios trigonométricos.\n",
    "    \n",
    "    * Uma versão estendida, com dez páginas adicionais, foi publicada em \"Mathematische Werke\" (de Weierstrass), Vol. 3, [1-37](https://www.math.technion.ac.il/hat/fpapers/wei5.pdf), Mayer and Müller, Berlin, 1903.\n",
    "\n",
    "    * Uma versão em francês, também em duas partes, apareceu em Weierstrass, K., Sur la possibilité d'une représentation analytique des fonctions dites arbitraires d'une variable réelle, J. Math. Pure et Appl. (na época chamado de Jordan Journal) 2 (1886), [105-113](https://www.math.technion.ac.il/hat/fpapers/wei1.pdf) and [115-138](https://www.math.technion.ac.il/hat/fpapers/wei2.pdf). \n",
    "\n",
    "* [Anton R. Schep, Weierstrass' proof of the Weierstrass Approximation Theorem](https://people.math.sc.edu/schep/weierstrass.pdf) - Artigo em inglês com a demonstração original de Weierstrass.\n",
    "\n",
    "* [Bernstein, S. N., Démonstration du Théorème de Weierstrass fondée sur le calcul des Probabilités, Comm. Soc. Math. Kharkov 2.Series XIII No.1 (1912), 1-2.](https://www.math.technion.ac.il/hat/fpapers/bern1.pdf) - Este é o famoso artigo de Berstein com uma demonstração probabilística do Teorema de Weierstrass, usando polinômios diferentes, posteriormente chamados de polinômios de Berstein. A sua demonstração é um tanto extensa e envolvida e há versões recentes mais simples e mais elegantes, mas mantendo o método de aproximação.\n",
    "\n",
    "* [Notas de aula de Matt Young sobre o Teorema de Stone-Weierstrass](https://mast.queensu.ca/~speicher/Section14.pdf), na [Queen’s University](https://www.queensu.ca), em Kingston, Canada - contém uma demonstração mais simples e direta do resultado de Berstein.\n",
    "\n",
    "* [Notas de aula MT2002 sobre o Teorema de Approximação de Weierstrass](http://www-groups.mcs.st-andrews.ac.uk/~john/analysis/Lectures/L19.html) - notas sobre uma variação da demonstração de Weierstrass, usando os núcleos polinomiais de Landau.\n",
    "\n",
    "* [Lecture 8. Dirac and Weierstrass](http://math.ucsd.edu/~aterras/ma142blecture8.pdf) - outras notas sobre uma variação da demonstração de Weierstrass, usando os núcleos polinomiais de Landau."
   ]
  },
  {
   "cell_type": "markdown",
   "metadata": {},
   "source": [
    "## Histórico\n",
    "\n",
    "Neste capítulo, vamos detalhar alguns desses resultados fundamentais."
   ]
  },
  {
   "cell_type": "markdown",
   "metadata": {},
   "source": [
    "## Demonstração original de Weierstrass\n",
    "\n",
    "### Ideia da demonstração\n",
    "\n",
    "A ideia da demonstração original de Weierstrass é simples, consistindo de três passos:\n",
    "\n",
    "1. Estender a função até uma função uniformemente contínua e de suporte compacto na reta toda;\n",
    "\n",
    "2. Aproximar essa extensão da função através de uma convolução com uma função (real) analítica com raio de convergência arbitrário;\n",
    "\n",
    "3. Expandir em série de potências essa função analítica.\n",
    "\n",
    "Como a convolução nos dá uma aproximação uniforme em compactos e como a série de potências em questão também converge uniforme em compactos, obtemos a desejada aproximação uniforme."
   ]
  },
  {
   "cell_type": "markdown",
   "metadata": {},
   "source": [
    "### Função inicial\n",
    "\n",
    "Consideramos uma **função contínua** $f$ definida em um intervalo $[a,b]$, com $-\\infty < a < b < \\infty$:\n",
    "\n",
    "$$ f: [a,b] \\rightarrow \\mathbb{R}.\n",
    "$$"
   ]
  },
  {
   "cell_type": "markdown",
   "metadata": {},
   "source": [
    "### Extensão\n",
    "\n",
    "A função $f$ é estendida para toda a reta $\\mathbb{R}$ de modo a ser uniformemente contínua em $\\mathbb{R}$ também. Por exemplo, podemos tomar\n",
    "\n",
    "$$ \\tilde{f}(x) = \\begin{cases}\n",
    "    0, & x\\leq a - 1, \\\\\n",
    "    f(a)(x - (a - 1)), & a - 1 < x < a, \\\\\n",
    "    f(x), & a \\leq x \\leq b, \\\\\n",
    "    f(b)(x - (b + 1)), & b < x < b + 1, \\\\\n",
    "    0, & x \\geq b + 1.\n",
    "  \\end{cases}\n",
    "$$\n",
    "\n",
    "1. Sabemos que a extensão tem suporte limitado, mais precisamente, $\\tilde f(x) = 0$, para $x \\leq a-1$ e $x \\geq b+1$.\n",
    "\n",
    "1. Sabemos que a extensão é limitada, i.e. existe $M>0$ tal que $\\tilde f(x) \\leq M$, para todo $x \\in \\mathbb{R}$.\n",
    "\n",
    "1. Como $\\tilde f$ é contínua e de suporte compacto, sabemos que ela é uniformemente contínua, i.e. para todo $\\varepsilon > 0$, existe $\\delta > 0$ tal que $|\\tilde f(x) - \\tilde f(y)| < \\varepsilon$ para quaisquer $x, y\\in [a,b]$ com $|x - y| < \\delta$."
   ]
  },
  {
   "cell_type": "markdown",
   "metadata": {},
   "source": [
    "### Convolução\n",
    "\n",
    "#### Núcleo\n",
    "\n",
    "Para a convolução, Weierstrass usou o **núcleo**\n",
    "\n",
    "$$ K(t,x) = \\frac{1}{t\\sqrt{\\pi}} e^{\\displaystyle -\\left(\\frac{x}{t}\\right)^2}, \\qquad x\\in \\mathbb{R}, \\;t > 0,\n",
    "$$\n",
    "\n",
    "que tem as propriedades fundamentais:\n",
    "\n",
    "1. $K(t,x) \\geq 0$, para todo $x\\in\\mathbb{R}$, $t>0$.\n",
    "\n",
    "1. $K(t,x) = \\displaystyle \\frac{1}{t}K_1\\left(\\frac{x}{t}\\right)$, onde $K_1(r) = K(1,r) = \\pi^{-1/2}e^{-r^2}$ é integrável em $\\mathbb{R}$.\n",
    "\n",
    "1. $\\int_\\mathbb{R} K(t,x)\\;\\textrm{d}x = 1$, para todo $t>0$, ou seja, $K(t,\\cdot)$ tem integral $1$.\n",
    "\n",
    "1. $x\\mapsto K(t,x)$ é (real) analítica em $x\\in\\mathbb{R}$, para todo $t>0$, com a sua série de potência convergindo uniformemente em qualquer intervalo compacto.\n",
    "\n",
    "**Observação:** Uma função real $g:I\\subset \\mathbb{R} \\rightarrow \\mathbb{R}$ é dita real analítica em um intervalo aberto $I$ da reta quando ela é infinitamente diferenciável em todos os pontos de $I$ e sua série de Taylor em qualquer ponto converge para a função em alguma vizinhança do ponto. Essa convergência é uniforme em qualquer intervalo compactamente incluído no intervalo de convergência. No caso em questão, pedimos, ainda, que o raio de convergência seja arbitrariamente grande, de modo que a convergência seja uniforme em qualquer intervalo compacto."
   ]
  },
  {
   "cell_type": "markdown",
   "metadata": {},
   "source": [
    "#### Operador de convolução\n",
    "\n",
    "Em relação à operação de **convolução** entre duas funções reais, ela é definida, formalmente, por\n",
    "\n",
    "$$ (f \\star g)(x) = \\int_\\mathbb{R} f(x-y)g(y) \\;\\textrm{d}y.\n",
    "$$\n",
    "\n",
    "É fácil ver, formalmente, que a convolução é uma operação binária simétrica:\n",
    "\n",
    "1. É uma operação simétrica: $f \\star g = g \\star f$.\n",
    "\n",
    "1. É regularizante, por exemplo, se pelo menos uma das duas funções for diferenciável, então $(f\\star g)' = f'\\star g$ e/ou $f\\star g'$, dependendo se $f'$ e/ou $g'$ estão/está bem definidos. Mais ainda, se ambas $f$ e $g$ forem diferenciáveis, então $(f\\star g)'' = f'\\star g'$. E assim por diante."
   ]
  },
  {
   "cell_type": "markdown",
   "metadata": {},
   "source": [
    "#### Convolução entre o núcleo e a função estendida\n",
    "\n",
    "Usando o núcleo acima e a operação de convolução, vamos ver que\n",
    "\n",
    "$$ (K(t,\\cdot) \\star \\tilde f)(x) = \\int_\\mathbb{R} K(t,x-y)\\tilde f(y) \\;\\textrm{d}y = \\int_\\mathbb{R} K(t,y)\\tilde f(x-y) \\;\\textrm{d}y \\rightarrow \\tilde f(x),\n",
    "$$\n",
    "\n",
    "uniformemente em $x\\in \\mathbb{R}$. Isto é a propriedade conhecida como **aproximação da identidade**.\n",
    "\n",
    "Em seguida, veremos que $K(t,\\cdot) \\star \\tilde f$ é real analítica e, portanto, pode ser escrito como uma séries de potências absolutamente convergente, ou seja, pode ser aproximado uniformemente por polinômios."
   ]
  },
  {
   "cell_type": "markdown",
   "metadata": {},
   "source": [
    "#### Demonstração da propriedade de aproximação uniforme da identidade\n",
    "\n",
    "Usando que $K(t,\\cdot)$ tem \"massa\" 1, escrevemos\n",
    "\n",
    "$$ |(K(t,\\cdot) \\star \\tilde f)(x) - \\tilde f(x)| = \\left| \\int_\\mathbb{R} K(t,y)\\tilde f(x-y) \\;\\textrm{d}y - \\tilde f(x) \\right| = \\left| \\int_\\mathbb{R} K(t,y)\\left(\\tilde f(x-y) - \\tilde f(x)\\right)\\;\\textrm{d}y \\right|.\n",
    "$$\n",
    "\n",
    "Separando a integral em duas partes e usando que $\\tilde f$ é uniformemente contínua e limitado, obtemos\n",
    "\n",
    "$$ |(K(t,\\cdot) \\star \\tilde f)(x) - \\tilde f(x)| = \\left| \\int_{|y|<\\delta} \\cdots \\;\\textrm{d}y + \\int_{|y|>\\delta} \\cdots \\;\\textrm{d}y \\right| \\leq \\varepsilon \\int_{|y|<\\delta} |K(t,y)| \\;\\textrm{d}y + 2M \\int_{|y|>\\delta} |K(t,y)| \\;\\textrm{d}y.\n",
    "$$\n",
    "\n",
    "Usando que $K(t,\\cdot)$ é positivo e, novamente, que tem \"massa\" 1, chegamos a\n",
    "\n",
    "$$ |(K(t,\\cdot) \\star \\tilde f)(x) - \\tilde f(x)| \\leq \\varepsilon \\int_\\mathbb{R} K(t,y) \\;\\textrm{d}y + 2M \\int_{\\mathbb{R} \\setminus B_\\delta(x)} K(t,y) \\;\\textrm{d}y = \\varepsilon + M \\int_{|y|>\\delta} \\frac{1}{t\\sqrt{\\pi}}e^{\\displaystyle -\\left(\\frac{y}{t}\\right)^2} \\;\\textrm{d}y.\n",
    "$$\n",
    "\n",
    "Fazendo a substituição $r = y/t$, obtemos $dy = tdr$\n",
    "\n",
    "$$ \\int_{|y|>\\delta} \\frac{1}{t\\sqrt{\\pi}}e^{\\displaystyle -\\left(\\frac{y}{t}\\right)^2} \\;\\textrm{d}y = 2 \\int_\\delta^\\infty \\frac{1}{t\\sqrt{\\pi}}e^{\\displaystyle -\\left(\\frac{y}{t}\\right)^2} \\;\\textrm{d}y = \\frac{2}{\\sqrt{\\pi}} \\int_{\\delta/t}^\\infty e^{-r^2} \\;\\textrm{d}r\n",
    "$$\n",
    "\n",
    "Como $e^{-r^2}$ é integrável em $\\mathbb{R}$ e $\\delta/t\\rightarrow \\infty$ quando $t\\searrow 0$, temos que\n",
    "\n",
    "$$ \\int_{|y|>\\delta} \\frac{1}{t\\sqrt{\\pi}}e^{\\displaystyle -\\left(\\frac{y}{t}\\right)^2} \\;\\textrm{d}y \\rightarrow 0, \\qquad t\\searrow 0.\n",
    "$$\n",
    "\n",
    "Logo,\n",
    "\n",
    "$$ \\limsup_{t\\searrow 0} \\sup_{x\\in\\mathbb{R}} |(K(t,\\cdot) \\star \\tilde f)(x)| \\leq \\varepsilon.\n",
    "$$\n",
    "\n",
    "Como $\\varepsilon>0$, isso nos dá a convergência uniforme\n",
    "\n",
    "$$ \\lim_{t\\searrow 0} \\sup_{x\\in\\mathbb{R}}|(K(t,\\cdot) \\star \\tilde f)(x)| = 0.\n",
    "$$"
   ]
  },
  {
   "cell_type": "markdown",
   "metadata": {},
   "source": [
    "### Expansão do núcleo em série de potências\n",
    "\n",
    "Como $K(t,x) = (1/t)K_1(x/t)$ e $K_1(r) = \\pi^{-1/2}e^{-r^2}$ é real analítica, temos\n",
    "\n",
    "$$ K_1(r) = \\frac{1}{\\sqrt{\\pi}}\\sum_{n=0}^\\infty a_n r^n,\n",
    "$$\n",
    "\n",
    "com convergência uniforme em qualquer intervalo compacto. (Como $K_1$ é simétrica, na verdade todos os termos ímpares de $a_n$ são nulos, mas isso não é importante aqui.)\n",
    "\n",
    "Temos, \n",
    "\n",
    "$$ K(t,x) = \\frac{1}{t\\sqrt{\\pi}}\\sum_{n=0}^\\infty \\frac{a_n}{t^n} x^n.\n",
    "$$\n",
    "\n",
    "Para cada $t>0$, o núcleo é o limite, uniforme em compactos, dos polinômios\n",
    "\n",
    "$$ K_N(t,x) = \\frac{1}{t\\sqrt{\\pi}}\\sum_{n=0}^N \\frac{a_n}{t^n} x^n.\n",
    "$$"
   ]
  },
  {
   "cell_type": "markdown",
   "metadata": {},
   "source": [
    "### Juntando as peças do quebra-cabeça\n",
    "\n",
    "Já vimos que $(K(t,\\cdot) \\star \\tilde f)$ converge uniformemente para $\\tilde f$. Em particular, como $\\tilde f(x) = f(x)$ em $[a,b]$, temos que $(K(t,\\cdot) \\star \\tilde f)$ converge uniformemente para $f$ em $[a,b]$.\n",
    "\n",
    "Assim, dado $\\varepsilon > 0$, existe $t>0$ tal que\n",
    "\n",
    "$$ \\left|(K(t,\\cdot) \\star \\tilde f)(x) - f(x)\\right| < \\frac{\\varepsilon}{2}, \\qquad \\forall \\;x\\in [a,b].\n",
    "$$\n",
    "\n",
    "Observe que só estamos interessados em $x\\in [a,b]$, que é onde $f$ está definido, e que nesse intervalo,\n",
    "\n",
    "$$ (K_N(t,\\cdot) \\star \\tilde f)(x) = \\int_\\mathbb{R} K_N(t,x-y)\\tilde f(y)\\;\\textrm{d}y = \\int_{a-1}^{b+1} K_N(t,x-y)\\tilde f(y)\\;\\textrm{d}y.\n",
    "$$\n",
    "\n",
    "como $\\tilde f(y)$ se anula fora de $y\\in [a-1,b+1]$ e só estamos interessados em $x\\in [a,b]$, então só precisamos nos preocupar com $x-y$ em $a-b-1 < x-y < b-a+1$.\n",
    "\n",
    "Assim, para cada $t>0$, como $K_N(t,\\cdot)$ converge uniformemente em compactos para $K(t,\\cdot)$, existe $N\\in \\mathbb{N}$ tal que\n",
    "\n",
    "$$ |K_N(t,x-y) - K(t,x-y)| \\leq \\frac{\\varepsilon}{2M}, \\qquad \\forall \\;a-b-1 \\leq x-y \\leq b-a+1.\n",
    "$$\n",
    "\n",
    "Dessa forma,\n",
    "\n",
    "$$ |(K_N(t,\\cdot) \\star \\tilde f)(x) - (K(t,\\cdot) \\star \\tilde f)(x)| \\leq \\frac{\\varepsilon}{2}, \\qquad \\forall \\;a \\leq x \\leq b.\n",
    "$$\n",
    "\n",
    "Assim, chegamos à aproximação\n",
    "\n",
    "$$ |(K_N(t,\\cdot) \\star \\tilde f)(x) - f(x)| \\leq \\varepsilon, \\qquad \\forall \\;a \\leq x \\leq b.\n",
    "$$"
   ]
  },
  {
   "cell_type": "markdown",
   "metadata": {},
   "source": [
    "Juntando a expansão em série de $K(t,x)$ e a convolução, temos\n",
    "\n",
    "$$ (K_N(t,\\cdot) \\star \\tilde f)(x) = \\frac{1}{t\\sqrt{\\pi}}\\sum_{n=0}^N \\frac{a_n}{t^n} (\\cdot^n \\star \\tilde f)(x) = \\frac{1}{t\\sqrt{\\pi}}\\sum_{n=0}^N \\frac{a_n}{t^n} \\int_\\mathbb{R} (y-x)^n f(y) \\;\\textrm{d}y.\n",
    "$$\n",
    "\n",
    "Escrevendo a expansão binomial de $(y-x)^n = \\sum_{j=0}^n \\left(\\begin{matrix} n \\\\ j \\end{matrix}\\right) y^{n-j} x^j$, obtemos a aproximação\n",
    "\n",
    "$$ (K_N(t,\\cdot) \\star \\tilde f)(x) = \\frac{1}{t\\sqrt{\\pi}}\\sum_{n=0}^N \\frac{a_n}{t^n} \\int_\\mathbb{R} \\sum_{j=0}^n \\left(\\begin{matrix} n \\\\ j \\end{matrix}\\right) y^{n-j} x^j f(y) \\;\\textrm{d}y\n",
    "$$\n",
    "\n",
    "Trocando a ordem dos somatórios, chegamos à forma final\n",
    "\n",
    "$$ (K_N(t,\\cdot) \\star \\tilde f)(x) = \\frac{1}{t\\sqrt{\\pi}}\\sum_{j=0}^N \\left(\\sum_{n=j}^N \\frac{a_n}{t^n} \\int_\\mathbb{R}  \\left(\\begin{matrix} n \\\\ j \\end{matrix}\\right) y^{n-j} f(y) \\;\\textrm{d}y \\right) x^j.\n",
    "$$\n",
    "\n",
    "Ou seja,\n",
    "\n",
    "$$ (K_N(t,\\cdot) \\star \\tilde f)(x) = \\sum_{j=0}^N b_j(t) x^j,\n",
    "$$\n",
    "\n",
    "onde\n",
    "\n",
    "$$ b_j(t) = \\frac{1}{t\\sqrt{\\pi}}\\left(\\sum_{n=j}^N \\frac{a_n}{t^n} \\left(\\begin{matrix} n \\\\ j \\end{matrix}\\right)\\int_\\mathbb{R} y^{n-j} f(y) \\;\\textrm{d}y \\right).\n",
    "$$"
   ]
  },
  {
   "cell_type": "markdown",
   "metadata": {},
   "source": [
    "### Outros núcleos e extensões\n",
    "\n",
    "O núcleo suavizador utilizado por Weierstrass não é o único que pode ser usado. De fato, qualquer núcleo com as seguintes propriedades serve:\n",
    "\n",
    "1. $K(t,x) = \\displaystyle \\frac{1}{|t|^\\alpha}K_1\\left(\\frac{x}{|t|^\\alpha}\\right)$, onde $\\alpha>0$ e $K_1(r)$ é integrável em $\\mathbb{R}$.\n",
    "\n",
    "1. $\\int_\\mathbb{R} K(t,x)\\;\\textrm{d}x = 1$, para todo $t>0$, ou seja, $K(t,\\cdot)$ tem integral $1$.\n",
    "\n",
    "1. $x\\mapsto K(t,x)$ é (real) analítica em $x\\in\\mathbb{R}$, para todo $t>0$, com a sua série de potência convergindo uniformemente em qualquer intervalo compacto.\n",
    "\n",
    "E a extensão $\\tilde f$ não precisa ter aquela forma. Basta que satisfaça as seguintes propriedades:\n",
    "\n",
    "1. Estende $f$, i.e. $\\tilde f(x) = f(x)$, para $x\\in [a,b]$.\n",
    "\n",
    "1. Tem suporte limitado, i.e. existe $R>0$ tal que $\\tilde f(x) = 0$, para $|x| \\geq R$.\n",
    "\n",
    "1. É limitada, i.e. existe $M>0$ tal que $\\tilde f(x) \\leq M$, para todo $x \\in \\mathbb{R}$.\n",
    "\n",
    "1. É uniformemente contínua, i.e. para todo $\\varepsilon > 0$, existe $\\delta > 0$ tal que $|\\tilde f(x) - \\tilde f(y)| < \\varepsilon$ para quaisquer $x, y\\in [a,b]$ com $|x - y| < \\delta$.\n",
    "\n",
    "**Exercício:**\n",
    "\n",
    "1. Mostre que o resultado de aproximação, de fato, continua valendo com $K(t,x)$ e $\\tilde f(x)$ satisfazendo as propriedades acima."
   ]
  },
  {
   "cell_type": "markdown",
   "metadata": {},
   "source": [
    "#### O núcleo do calor\n",
    "\n",
    "* O núcleo do calor tem a forma $K(t,x) = \\displaystyle \\frac{1}{(4\\pi t)^{d/2}}e^{\\displaystyle -\\frac{x^2}{4t}}$, em dimensão $d\\in \\mathbb{N}$.\n",
    "\n",
    "* Este núcleo está associado à equação do calor $u_t = \\Delta_x u$, em $x\\in \\mathbb{R}^d$, $t\\geq 0$, onde $\\Delta_x = \\partial_{x_1}^2 + \\cdots + \\partial_{x_d}^2$ é o operador Laplaciano em $\\mathbb{R}^d$.\n",
    "\n",
    "* Ele é solução da equação do calor quando a condição inicial é a \"função\" delta de Dirac concentrada na origem, $\\delta_0$.\n",
    "\n",
    "* A delta de Dirac não é uma função real clássica, ela é, na verdade, um exemplo de uma **distribuição**, ou seja, um funcional (operador) linear agindo nas funções infinitamente continuamente diferenciáveis e de suporte compacto, dada por\n",
    "\n",
    "$$ \\langle \\delta_0, \\varphi \\rangle = \\varphi(0), \\qquad \\forall \\varphi\\in \\mathcal{D}(\\mathbb{R}^d).\n",
    "$$\n",
    "\n",
    "* $\\mathcal{D}(\\mathbb{R}^d)$ denota exatamente esse espaço de funções \"testes\" infinitamente suaves e de suporte compacto em $\\mathbb{R}^d$. A expressão $\\langle \\ell, \\varphi \\rangle$ denota a ação de uma distribuição $\\ell$ em uma função teste $\\varphi$.\n",
    "\n",
    "**Exercícios:**\n",
    "\n",
    "1. Verifique que $K_t = K_{xx}$, em $x\\in \\mathbb{R}$ ($d=1$), $t>0$.\n",
    "\n",
    "1. Verifique que $K(t,x) = \\displaystyle \\frac{1}{|t|^\\alpha}K_1\\left(\\frac{x}{|t|^\\alpha}\\right)$, para algum $\\alpha>0$ e algum $K_1(r)$ integrável em $\\mathbb{R}$.\n",
    "\n",
    "1. Observe que $x\\mapsto K(t,x)$ é (real) analítica em $x\\in\\mathbb{R}$, para todo $t>0$, com a sua série de potência convergindo uniformemente em qualquer intervalo compacto.\n",
    "\n",
    "1. Conclua que o núcleo de calor pode ser usado para a aproximação polinomial de uma função contínua em um compacto.\n",
    "\n",
    "1. Verifique que, para qualquer $\\varphi\\in \\mathcal{D}(\\mathbb{R})$, $\\int_\\mathbb{R} K(t,x)\\varphi(x)\\;\\textrm{d}x \\rightarrow \\varphi(0)$, o que significa dizer que $K(t,\\cdot)$ converge para a delta de Dirac no sentido das distribuições. Ou seja, é nesse sentido que dizemos que $K(t,x)$ é solução da equação do calor com condição inicial $\\delta_0$.\n",
    "\n",
    "1. Verifique que o resultado de aproximação da identidade para $K(t,x)$ nos dá que $K(t,\\cdot)\\star u_0$ converge uniformemente para $u_0$, quando $t\\searrow 0$, para qualquer $u_0:\\mathbb{R}\\rightarrow\\mathbb{R}$ limitada e uniformemente contínua. Ou seja, $u(t,x) = (K(t,\\cdot)\\star u_0)(x)$ é solução da equação do calor com condição inicial $u_0$. Em outras palavras, essa solução $u(t,x)$ pode ser escrita da forma abaixo, daí o fato de $K(t,x)$ ser conhecido como núcleo da equação do calor:\n",
    "\n",
    "$$ u(t,x) = \\int_\\mathbb{R} K(t,x-y)u_0(y) \\;\\textrm{d}y.\n",
    "$$"
   ]
  },
  {
   "cell_type": "markdown",
   "metadata": {},
   "source": [
    "#### Sequências de Dirac e o núcleo de Landau\n",
    "\n",
    "Há várias maneiras de se obter uma aproximação da identidade por convolução. Por exemplo, uma **sequência de Dirac** é uma família de funções $K_n:\\mathbb{R}\\rightarrow\\mathbb{R}$ satisfazendo\n",
    "\n",
    "1. $K_n(x)\\geq 0$, para todo $x\\in \\mathbb{R}$ e todo $n\\in\\mathbb{N}$.\n",
    "\n",
    "1. $\\displaystyle \\int_\\mathbb{R} K_n(x)\\;\\textrm{d}x = 1$, para todo $n\\in\\mathbb{N}$.\n",
    "\n",
    "1. Para quaisquer $\\varepsilon>0$ e $\\delta>0$, existe $N\\in\\mathbb{N}$ tal que\n",
    "\n",
    "$$ \\int_{|x|>\\delta} K_n(x)\\;\\textrm{d}x < \\varepsilon, \\qquad \\forall \\;n\\geq N.\n",
    "$$\n",
    "\n",
    "Um exemplo importante são os **núcleos de Landau**,\n",
    "\n",
    "$$ L_n(x) = \\frac{1}{c_n}\\begin{cases} (1-x^2)^n, & |x| \\leq 1, \\\\ 0, & |x| > 1, \\end{cases}\n",
    "$$\n",
    "\n",
    "onde $c_n$ é escolhido de modo a normalizar a integral, ou seja\n",
    "\n",
    "$$ c_n = \\int_{-1}^1 (1-x^2)^n \\;\\textrm{d}x.\n",
    "$$\n"
   ]
  },
  {
   "cell_type": "markdown",
   "metadata": {},
   "source": [
    "#### Exercícios\n",
    "\n",
    "1. Mostre que se $K(x)\\geq 0$, $\\forall x\\in \\mathbb{R}$ e $\\int_\\mathbb{R}K(x)\\;\\textrm{d}x=1$, então $K_n(x) = nK(nx)$ é uma sequência de Dirac.\n",
    "\n",
    "1. Mostre os núcleos de Landau formam uma sequência de Dirac.\n",
    "\n",
    "1. Mostre que sequências de Dirac geram aproximações da identidade: $L_n \\star f \\rightarrow f$, uniformemente em $\\mathbb{R}$, para qualquer $f$ limitada e uniformemente contínua.\n",
    "\n",
    "1. Seja $f:[-1,1]\\rightarrow \\mathbb{R}$ contínua e considere\n",
    "\n",
    "$$ (L_n\\star f)(x) = \\int_{-1}^1 L_n(x-y)f(y)\\;\\textrm{d}y,\n",
    "$$\n",
    "\n",
    "que pode ser vista como a convolução com a extensão $\\tilde f(x) = f(x)$, $|x|\\leq 1$, $\\tilde f(x) =0$, $|x|>1$. Mostre que $(L_n\\star f)$ é um polinômio e que converge uniformemente para $f$ em $[-1,1]$."
   ]
  },
  {
   "cell_type": "markdown",
   "metadata": {},
   "source": [
    "## Demonstração de Bernstein\n",
    "\n",
    "A demonstração de Bernstein é mais simples em vários sentidos:\n",
    "\n",
    "1. Não depende do conceito um pouco mais avançado de função real analítica.\n",
    "\n",
    "1. Não depende do conceito de convolução e da demonstração um pouco mais delicada de aproximação da identidade.\n",
    "\n",
    "1. Utiliza polinômios construídos de maneira mais explícita, sem envolver derivadas de ordem arbitrariamente alta e coeficientes contendo integrais.\n",
    "\n",
    "1. No final das contas, a sua demonstração utiliza ferramentas de Cálculo I."
   ]
  },
  {
   "cell_type": "markdown",
   "metadata": {},
   "source": [
    "### Funções a serem aproximadas\n",
    "\n",
    "Para simplificar, vamos considerar funções apenas no intervalo $[0,1]$.\n",
    "\n",
    "1. Assumindo $f$ contínua em $[0,1]$, então ela é uniformement contínua, ou seja, dado $\\varepsilon>0$, existe $\\delta >0$, tal que se $x,y\\in[0,1]$ com $|x-y|<\\delta$, então $|f(x)-f(y)| < \\varepsilon/2$\n",
    "\n",
    "1. Usando que $f$ é limitada, digamos $|f(x)|\\leq M$ para $x\\in [0,1]$, então, para $|y-x| \\geq \\delta$, obtemos $|f(y) - f(x)| \\leq 2M \\leq 2M((y-x)/\\delta)^2$.\n",
    "\n",
    "1. Juntando as duas estimativas acima, obtemos que, para qualquer $\\varepsilon>0$, existe $\\delta>0$ tal que\n",
    "\n",
    "$$ |f(y) - f(x)| \\leq 2M\\left(\\frac{y-x}{\\delta}\\right)^2  + \\frac{\\varepsilon}{2}, \\qquad \\forall x, y \\in [0,1].\n",
    "$$"
   ]
  },
  {
   "cell_type": "markdown",
   "metadata": {},
   "source": [
    "### Os polinômios de Berstein\n",
    "\n",
    "Os **polinômios de Berstein de uma função $f$** no intervalo $[0,1]$ são polinômios da forma\n",
    "\n",
    "$$ B_n(x,f) = \\sum_{k=0}^n f(x_k^n) \\left(\\begin{matrix} n \\\\ k \\end{matrix}\\right) x^k (1-x)^{n-k}, \\quad \\text{onde} \\quad x_k^n = \\frac{k}{n}.\n",
    "$$\n",
    "\n",
    "A operação $f\\mapsto B_n(x,f)$ em $C([0,1])$ é linear e positiva, com\n",
    "\n",
    "\n",
    "1. $B_n(x,f + g) = B_n(x,f) + B_n(x,g)$, para quaisquer duas funções $f, g$.\n",
    "\n",
    "1. $B_n(x, cf) = cB_n(x,f)$, para quaisquer constante $c$ e função $f$.\n",
    "\n",
    "1. Pelo Teorema Binomial,\n",
    "$$ B_n(x,1) = \\sum_{k=0}^n \\left(\\begin{matrix} n \\\\ k \\end{matrix}\\right) x^k (1-x)^{n-k} = (x + (1-x))^n = 1^n = 1.\n",
    "$$\n",
    "\n",
    "1. Se $0 \\leq f$, então $0 \\leq B_n(x,f)$.\n",
    "\n",
    "1. A positividade e a linearidade (ou verificação direta) implicam em $g\\leq f$, então $B_n(x,g)\\leq B_n(x,f)$.\n",
    "\n",
    "Uma outra propriedade que vamos explorar é a de que\n",
    "\n",
    "1. Considerando $f(x) = (x-c)^2$, temos\n",
    "\n",
    "$$ B_n(x,(x-c)^2) = \\frac{1}{n}(x-x^2) + (x-c)^2, \\qquad x\\in [0,1].\n",
    "$$"
   ]
  },
  {
   "cell_type": "markdown",
   "metadata": {},
   "source": [
    "### Juntando as peças do quebra-cabeça\n",
    "\n",
    "1. Aplicando a última propriedade acima a $f(y)=(y-x)^2$, para $x$ fixo, e olhando o polinômio de Berstein de $f$ como função de $y$, temos\n",
    "$$ B_n(y,(y-x)^2) = \\frac{1}{n}(y-y^2) + (y-x)^2.\n",
    "$$\n",
    "\n",
    "1. Dado $x$ e interpretando $f(x)$ como uma função constante em relação à variável $y$, temos\n",
    "$$ B_n(y,f) - f(x) = B_n(y,f) - f(x) B_n(y,1) =  B_n(y,f) - B_n(y,f(x)) = B_n(y,f-f(x)).\n",
    "$$\n",
    "\n",
    "1. O termo $B_n(y,f-f(x)$ satisfaz\n",
    "$$ B_n(y,f-f(x)) \\leq B_n\\left(y, 2M\\left(\\frac{y-x}{\\delta}\\right)^2  + \\frac{\\varepsilon}{2}\\right) \\leq \\frac{2M}{\\delta^2}B(y,(y-x)^2) + \\frac{\\varepsilon}{2}.\n",
    "$$\n",
    "\n",
    "1. Assim,\n",
    "$$ |B_n(y,f) - f(x)| \\leq \\frac{2M}{\\delta^2}\\left(\\frac{1}{n}(y-y^2) + (y-x)^2\\right) + \\frac{\\varepsilon}{2}.\n",
    "$$\n",
    "\n",
    "1. Em particular, considerando, agora, $y=x$, temos\n",
    "$$ |B_n(x,f) - f(x)| \\leq \\frac{2M}{n\\delta^2}(x-x^2) + \\frac{\\varepsilon}{2}.\n",
    "$$\n",
    "\n",
    "1. Como o máximo de $(x-x^2)$ em $[0,1]$ é 1/4, obtemos\n",
    "$$ |B_n(x,f) - f(x)| \\leq \\frac{M}{2n\\delta^2} + \\frac{\\varepsilon}{2}.\n",
    "$$\n",
    "\n",
    "1. Escolhendo $n$ suficientemente grande, tal que $M/(2n\\delta^2) < \\varepsilon/2$, obtemos, finalmente, a aproximação uniforme\n",
    "$$ |B_n(x,f) - f(x)| \\leq \\varepsilon, \\qquad \\forall x\\in [0,1].\n",
    "$$"
   ]
  },
  {
   "cell_type": "markdown",
   "metadata": {
    "slideshow": {
     "slide_type": "skip"
    }
   },
   "source": [
    "<!--NAVIGATOR-->\n",
    "\n",
    "---\n",
    "[<- 3. Teoria da aproximação e universalidade](03.00-Universalidade.ipynb) | [Redes Neurais, Equações Diferenciais e Aprendizado Científico de Máquina](00.00-Frente.ipynb) | [3.2. Teorema de Stone-Weierstrass ->](03.02-Teorema_de_StoneWeierstrass.ipynb)"
   ]
  }
 ],
 "metadata": {
  "kernelspec": {
   "display_name": "py38",
   "language": "python",
   "name": "py38"
  },
  "language_info": {
   "codemirror_mode": {
    "name": "ipython",
    "version": 3
   },
   "file_extension": ".py",
   "mimetype": "text/x-python",
   "name": "python",
   "nbconvert_exporter": "python",
   "pygments_lexer": "ipython3",
   "version": "3.8.1"
  }
 },
 "nbformat": 4,
 "nbformat_minor": 4
}
